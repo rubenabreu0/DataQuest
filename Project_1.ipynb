{
 "cells": [
  {
   "cell_type": "markdown",
   "metadata": {},
   "source": [
    "# Project 1 - App Store Data Analysis\n",
    "For this project, we'll pretend we're working as data analysts for a company that builds Android and iOS mobile apps. We make our apps available on Google Play and the App Store.\n",
    "\n",
    "We only build apps that are free to download and install, and our main source of revenue consists of in-app ads. This means our revenue for any given app is mostly influenced by the number of users who use our app — the more users that see and engage with the ads, the better. Our goal for this project is to analyze data to help our developers understand what type of apps are likely to attract more users."
   ]
  },
  {
   "cell_type": "code",
   "execution_count": 11,
   "metadata": {
    "collapsed": true
   },
   "outputs": [],
   "source": [
    "def file_opener(filename):\n",
    "    opened_file=open(filename)\n",
    "    from csv import reader\n",
    "    read_file=reader(opened_file)\n",
    "    data_list=list(read_file)\n",
    "    return data_list\n",
    "def explore_data(dataset, start, end, rows_and_columns=False):\n",
    "    dataset_slice = dataset[start:end]    \n",
    "    for row in dataset_slice:\n",
    "        print(row)\n",
    "        print('\\n') # adds a new (empty) line after each row\n",
    "    if rows_and_columns:\n",
    "        print('Number of rows:', len(dataset))\n",
    "        print('Number of columns:', len(dataset[0]))"
   ]
  },
  {
   "cell_type": "code",
   "execution_count": 21,
   "metadata": {
    "collapsed": false
   },
   "outputs": [],
   "source": [
    "Android_Data=file_opener('googleplaystore.csv')\n",
    "Apple_Data=file_opener('AppleStore.csv')"
   ]
  },
  {
   "cell_type": "code",
   "execution_count": 22,
   "metadata": {
    "collapsed": false
   },
   "outputs": [
    {
     "name": "stdout",
     "output_type": "stream",
     "text": [
      "['App', 'Category', 'Rating', 'Reviews', 'Size', 'Installs', 'Type', 'Price', 'Content Rating', 'Genres', 'Last Updated', 'Current Ver', 'Android Ver']\n",
      "\n",
      "\n",
      "Number of rows: 10842\n",
      "Number of columns: 13\n",
      "['id', 'track_name', 'size_bytes', 'currency', 'price', 'rating_count_tot', 'rating_count_ver', 'user_rating', 'user_rating_ver', 'ver', 'cont_rating', 'prime_genre', 'sup_devices.num', 'ipadSc_urls.num', 'lang.num', 'vpp_lic']\n",
      "\n",
      "\n",
      "Number of rows: 7198\n",
      "Number of columns: 16\n"
     ]
    }
   ],
   "source": [
    "explore_data(Android_Data,0,1,True)\n",
    "explore_data(Apple_Data,0,1,True)"
   ]
  },
  {
   "cell_type": "code",
   "execution_count": 25,
   "metadata": {
    "collapsed": false
   },
   "outputs": [],
   "source": [
    "del Android_Data[10473]"
   ]
  },
  {
   "cell_type": "markdown",
   "metadata": {},
   "source": [
    "We don't want to count certain apps more than once when we analyze data, so we need to remove the duplicate entries and keep only one entry per app. One thing we could do is remove the duplicate rows randomly, but we could probably find a better way.\n",
    "\n",
    "We can use this information to build a criterion for removing the duplicates. The higher the number of reviews, the more recent the data should be. Rather than removing duplicates randomly, we'll only keep the row with the highest number of reviews and remove the other entries for any given app."
   ]
  },
  {
   "cell_type": "code",
   "execution_count": 27,
   "metadata": {
    "collapsed": true
   },
   "outputs": [],
   "source": [
    "def duplicate_finder(dataset,index):\n",
    "    duplicate_apps=[]\n",
    "    unique_apps=[]\n",
    "    for each_app in dataset:\n",
    "        name=each_app[index]\n",
    "        if name in unique_apps:\n",
    "            duplicate_apps.append(name)\n",
    "        if name not in unique_apps:\n",
    "            unique_apps.append(name)\n",
    "    return duplicate_apps\n",
    "\n",
    "    "
   ]
  },
  {
   "cell_type": "code",
   "execution_count": 30,
   "metadata": {
    "collapsed": false
   },
   "outputs": [
    {
     "data": {
      "text/plain": [
       "0"
      ]
     },
     "execution_count": 30,
     "metadata": {},
     "output_type": "execute_result"
    }
   ],
   "source": [
    "len(duplicate_finder(Apple_Data,0))"
   ]
  },
  {
   "cell_type": "code",
   "execution_count": 31,
   "metadata": {
    "collapsed": true
   },
   "outputs": [],
   "source": [
    "reviews_max={}\n",
    "for each_app in Android_Data[1:]:\n",
    "    name=each_app[0]\n",
    "    n_reviews=float(each_app[3])\n",
    "    if name in reviews_max and n_reviews>reviews_max[name]:\n",
    "        reviews_max[name]=n_reviews\n",
    "    if name not in reviews_max:\n",
    "        reviews_max[name]=n_reviews\n"
   ]
  },
  {
   "cell_type": "code",
   "execution_count": 33,
   "metadata": {
    "collapsed": false
   },
   "outputs": [
    {
     "data": {
      "text/plain": [
       "9659"
      ]
     },
     "execution_count": 33,
     "metadata": {},
     "output_type": "execute_result"
    }
   ],
   "source": [
    "len(reviews_max)"
   ]
  },
  {
   "cell_type": "code",
   "execution_count": 37,
   "metadata": {
    "collapsed": false
   },
   "outputs": [
    {
     "name": "stdout",
     "output_type": "stream",
     "text": [
      "9659\n"
     ]
    }
   ],
   "source": [
    "android_clean=[]\n",
    "already_added=[]\n",
    "for each_app in Android_Data[1:]:\n",
    "    name=each_app[0]\n",
    "    n_reviews=float(each_app[3])\n",
    "    if n_reviews==reviews_max[name] and name not in already_added:\n",
    "        android_clean.append(each_app)\n",
    "        already_added.append(name)\n",
    "print (len(android_clean))"
   ]
  },
  {
   "cell_type": "markdown",
   "metadata": {},
   "source": [
    "To remove the duplicates, we will:\n",
    "\n",
    "Create a dictionary, where each dictionary key is a unique app name and the corresponding dictionary value is the highest number of reviews of that app.\n",
    "Use the information stored in the dictionary and create a new data set, which will have only one entry per app (and for each app, we'll only select the entry with the highest number of reviews)."
   ]
  },
  {
   "cell_type": "code",
   "execution_count": 39,
   "metadata": {
    "collapsed": false
   },
   "outputs": [
    {
     "data": {
      "text/plain": [
       "False"
      ]
     },
     "execution_count": 39,
     "metadata": {},
     "output_type": "execute_result"
    }
   ],
   "source": [
    "def string_analyzer(a_string):\n",
    "    counter=0\n",
    "    for each_char in a_string:\n",
    "        if ord(each_char) >127:\n",
    "            counter+=1\n",
    "            if counter >3:\n",
    "                return False\n",
    "    return True\n",
    "string_analyzer('爱奇艺PPS -《欢乐颂2》电视剧热播')"
   ]
  },
  {
   "cell_type": "code",
   "execution_count": 45,
   "metadata": {
    "collapsed": true
   },
   "outputs": [],
   "source": [
    "def dataset_cleaner(dataset,index):\n",
    "    clean_data=[]\n",
    "    for each_app in dataset:\n",
    "        name=each_app[index]\n",
    "        if string_analyzer(name):\n",
    "            clean_data.append(each_app)\n",
    "    return clean_data"
   ]
  },
  {
   "cell_type": "code",
   "execution_count": 46,
   "metadata": {
    "collapsed": true
   },
   "outputs": [],
   "source": [
    "Android_NEN=dataset_cleaner(android_clean,0)\n",
    "Apple_NEN=dataset_cleaner(Apple_Data[1:],0)"
   ]
  },
  {
   "cell_type": "code",
   "execution_count": 47,
   "metadata": {
    "collapsed": false
   },
   "outputs": [
    {
     "name": "stdout",
     "output_type": "stream",
     "text": [
      "9614\n",
      "7197\n"
     ]
    }
   ],
   "source": [
    "print(len(Android_NEN))\n",
    "print(len(Apple_NEN))"
   ]
  },
  {
   "cell_type": "code",
   "execution_count": 50,
   "metadata": {
    "collapsed": false
   },
   "outputs": [
    {
     "name": "stdout",
     "output_type": "stream",
     "text": [
      "8864\n",
      "4056\n"
     ]
    }
   ],
   "source": [
    "# Analyze free Android Apps\n",
    "Android_VF=[]\n",
    "Apple_VF=[]\n",
    "for each_app in Android_NEN:\n",
    "    cost=each_app[7]\n",
    "    if cost =='0':\n",
    "        Android_VF.append(each_app)\n",
    "        \n",
    "# Analyze free Apple Apps\n",
    "for each_app in Apple_NEN:\n",
    "    cost=each_app[4]\n",
    "    if cost=='0.0':\n",
    "        Apple_VF.append(each_app)\n",
    "\n",
    "print(len(Android_VF))\n",
    "print(len(Apple_VF))"
   ]
  },
  {
   "cell_type": "markdown",
   "metadata": {},
   "source": [
    "To minimize risks and overhead, our validation strategy for an app idea is comprised of three steps:\n",
    "\n",
    "- Build a minimal Android version of the app, and add it to Google Play.\n",
    "- If the app has a good response from users, we develop it further.\n",
    "- If the app is profitable after six months, we build an iOS version of the app and add it to the App Store.\n",
    "\n",
    "Because our end goal is to add the app on both Google Play and the App Store, we need to find app profiles that are successful on both markets. For instance, a profile that works well for both markets might be a productivity app that makes use of gamification."
   ]
  },
  {
   "cell_type": "code",
   "execution_count": 58,
   "metadata": {
    "collapsed": false
   },
   "outputs": [],
   "source": [
    "def freq_table(dataset,index):\n",
    "    freq_table={}\n",
    "    percentage_table={}\n",
    "    Total=0\n",
    "    for each_app in dataset:\n",
    "        Total+=1\n",
    "        var=each_app[index]\n",
    "        if var in freq_table:\n",
    "            freq_table[var]+=1\n",
    "        if var not in freq_table:\n",
    "            freq_table[var]=1\n",
    "    for each_key in freq_table:\n",
    "        percentage=(freq_table[each_key]/Total)*100\n",
    "        percentage_table[each_key]=percentage\n",
    "    return percentage_table\n"
   ]
  },
  {
   "cell_type": "code",
   "execution_count": 61,
   "metadata": {
    "collapsed": false
   },
   "outputs": [
    {
     "data": {
      "text/plain": [
       "{'Book': 1.6272189349112427,\n",
       " 'Business': 0.4930966469428008,\n",
       " 'Catalogs': 0.22189349112426035,\n",
       " 'Education': 3.2544378698224854,\n",
       " 'Entertainment': 8.234714003944774,\n",
       " 'Finance': 2.0710059171597637,\n",
       " 'Food & Drink': 1.0601577909270217,\n",
       " 'Games': 55.64595660749507,\n",
       " 'Health & Fitness': 1.8737672583826428,\n",
       " 'Lifestyle': 2.3175542406311638,\n",
       " 'Medical': 0.19723865877712032,\n",
       " 'Music': 1.6518737672583828,\n",
       " 'Navigation': 0.4930966469428008,\n",
       " 'News': 1.4299802761341223,\n",
       " 'Photo & Video': 4.117357001972387,\n",
       " 'Productivity': 1.5285996055226825,\n",
       " 'Reference': 0.4930966469428008,\n",
       " 'Shopping': 2.983234714003945,\n",
       " 'Social Networking': 3.5256410256410255,\n",
       " 'Sports': 1.947731755424063,\n",
       " 'Travel': 1.3806706114398422,\n",
       " 'Utilities': 2.687376725838264,\n",
       " 'Weather': 0.7642998027613412}"
      ]
     },
     "execution_count": 61,
     "metadata": {},
     "output_type": "execute_result"
    }
   ],
   "source": [
    "freq_table(Apple_VF,11)"
   ]
  },
  {
   "cell_type": "markdown",
   "metadata": {},
   "source": [
    "Analyze the frequency table you generated for the prime_genre column of the App Store data set.\n",
    "\n",
    "What is the most common genre? What is the runner-up?\n",
    "What other patterns do you see?\n",
    "What is the general impression — are most of the apps designed for practical purposes (education, shopping, utilities, productivity, lifestyle) or more for entertainment (games, photo and video, social networking, sports, music)?\n",
    "Can you recommend an app profile for the App Store market based on this frequency table alone? If there's a large number of apps for a particular genre, does that also imply that apps of that genre generally have a large number of users?\n",
    "Analyze the frequency table you generated for the Category and Genres column of the Google Play data set.\n",
    "\n",
    "What are the most common genres?\n",
    "What other patterns do you see?\n",
    "Compare the patterns you see for the Google Play market with those you saw for the App Store market.\n",
    "Can you recommend an app profile based on what you found so far? Do the frequency tables you generated reveal the most frequent app genres or what genres have the most users?"
   ]
  },
  {
   "cell_type": "code",
   "execution_count": 69,
   "metadata": {
    "collapsed": false
   },
   "outputs": [
    {
     "name": "stdout",
     "output_type": "stream",
     "text": [
      "Music 56482.02985074627\n",
      "Travel 20216.01785714286\n",
      "Food & Drink 20179.093023255813\n",
      "Navigation 25972.05\n",
      "News 15892.724137931034\n",
      "Entertainment 10822.961077844311\n",
      "Education 6266.333333333333\n",
      "Weather 47220.93548387097\n",
      "Productivity 19053.887096774193\n",
      "Shopping 18746.677685950413\n",
      "Business 6367.8\n",
      "Games 18924.68896765618\n",
      "Medical 459.75\n",
      "Catalogs 1779.5555555555557\n",
      "Photo & Video 27249.892215568863\n",
      "Lifestyle 8978.308510638299\n",
      "Social Networking 53078.195804195806\n",
      "Finance 13522.261904761905\n",
      "Book 8498.333333333334\n",
      "Reference 67447.9\n",
      "Health & Fitness 19952.315789473683\n",
      "Sports 20128.974683544304\n",
      "Utilities 14010.100917431193\n"
     ]
    }
   ],
   "source": [
    "prime_genre=freq_table(Apple_VF,11)\n",
    "for genre in prime_genre:\n",
    "    total=0\n",
    "    len_genre=0\n",
    "    for each_app in Apple_VF:\n",
    "        genre_app=each_app[11]\n",
    "        if genre_app==genre:\n",
    "            ratings=float(each_app[5])\n",
    "            total=total+ratings\n",
    "            len_genre+=1\n",
    "    avg_ratings=total/len_genre\n",
    "    print (genre,avg_ratings)\n",
    "            \n",
    "    "
   ]
  },
  {
   "cell_type": "code",
   "execution_count": 78,
   "metadata": {
    "collapsed": false
   },
   "outputs": [
    {
     "name": "stdout",
     "output_type": "stream",
     "text": [
      "Facebook : 2974676\n",
      "Pinterest : 1061624\n",
      "Skype for iPhone : 373519\n",
      "Messenger : 351466\n",
      "Tumblr : 334293\n",
      "WhatsApp Messenger : 287589\n",
      "Kik : 260965\n",
      "ooVoo – Free Video Call, Text and Voice : 177501\n",
      "TextNow - Unlimited Text + Calls : 164963\n",
      "Viber Messenger – Text & Call : 164249\n",
      "Followers - Social Analytics For Instagram : 112778\n",
      "MeetMe - Chat and Meet New People : 97072\n",
      "We Heart It - Fashion, wallpapers, quotes, tattoos : 90414\n",
      "InsTrack for Instagram - Analytics Plus More : 85535\n",
      "Tango - Free Video Call, Voice and Chat : 75412\n",
      "LinkedIn : 71856\n",
      "Match™ - #1 Dating App. : 60659\n",
      "Skype for iPad : 60163\n",
      "POF - Best Dating App for Conversations : 52642\n",
      "Timehop : 49510\n",
      "Find My Family, Friends & iPhone - Life360 Locator : 43877\n",
      "Whisper - Share, Express, Meet : 39819\n",
      "Hangouts : 36404\n",
      "LINE PLAY - Your Avatar World : 34677\n",
      "WeChat : 34584\n",
      "Badoo - Meet New People, Chat, Socialize. : 34428\n",
      "Followers + for Instagram - Follower Analytics : 28633\n",
      "GroupMe : 28260\n",
      "Marco Polo Video Walkie Talkie : 27662\n",
      "Miitomo : 23965\n",
      "SimSimi : 23530\n",
      "Grindr - Gay and same sex guys chat, meet and date : 23201\n",
      "Wishbone - Compare Anything : 20649\n",
      "imo video calls and chat : 18841\n",
      "After School - Funny Anonymous School News : 18482\n",
      "Quick Reposter - Repost, Regram and Reshare Photos : 17694\n",
      "Weibo HD : 16772\n",
      "Repost for Instagram : 15185\n",
      "Live.me – Live Video Chat & Make Friends Nearby : 14724\n",
      "Nextdoor : 14402\n",
      "Followers Analytics for Instagram - InstaReport : 13914\n",
      "YouNow: Live Stream Video Chat : 12079\n",
      "FollowMeter for Instagram - Followers Tracking : 11976\n",
      "LINE : 11437\n",
      "eHarmony™ Dating App - Meet Singles : 11124\n",
      "Discord - Chat for Gamers : 9152\n",
      "QQ : 9109\n",
      "Telegram Messenger : 7573\n",
      "Weibo : 7265\n",
      "Periscope - Live Video Streaming Around the World : 6062\n",
      "Chat for Whatsapp - iPad Version : 5060\n",
      "QQ HD : 5058\n",
      "Followers Analysis Tool For Instagram App Free : 4253\n",
      "live.ly - live video streaming : 4145\n",
      "Houseparty - Group Video Chat : 3991\n",
      "SOMA Messenger : 3232\n",
      "Monkey : 3060\n",
      "百度贴吧-全球最大兴趣交友社区 : 2860\n",
      "Down To Lunch : 2535\n",
      "Flinch - Video Chat Staring Contest : 2134\n",
      "Highrise - Your Avatar Community : 2011\n",
      "LOVOO - Dating Chat : 1985\n",
      "PlayStation®Messages : 1918\n",
      "MOMO陌陌-开启视频社交,用直播分享生活 : 1862\n",
      "BOO! - Video chat camera with filters & stickers : 1805\n",
      "Qzone : 1649\n",
      "Chatous - Chat with new people : 1609\n",
      "Kiwi - Q&A : 1538\n",
      "GhostCodes - a discovery app for Snapchat : 1313\n",
      "Jodel : 1193\n",
      "FireChat : 1037\n",
      "Google Duo - simple video calling : 1033\n",
      "Fiesta by Tango - Chat & Meet New People : 885\n",
      "Google Allo — smart messaging : 862\n",
      "Peach — share vividly : 727\n",
      "Hey! VINA - Where Women Meet New Friends : 719\n",
      "Battlefield™ Companion : 689\n",
      "All Devices for WhatsApp - Messenger for iPad : 682\n",
      "YY- 小全民手机直播交友软件 : 624\n",
      "百度贴吧HD : 542\n",
      "Chat for Pokemon Go - GoChat : 500\n",
      "IAmNaughty – Dating App to Meet New People Online : 463\n",
      "Qzone HD : 458\n",
      "Zenly - Locate your friends in realtime : 427\n",
      "League of Legends Friends : 420\n",
      "豆瓣 : 407\n",
      "Candid - Speak Your Mind Freely : 398\n",
      "知乎 : 397\n",
      "Selfeo : 366\n",
      "Fake-A-Location Free ™ : 354\n",
      "Popcorn Buzz - Free Group Calls : 281\n",
      "Fam — Group video calling for iMessage : 279\n",
      "QQ International : 274\n",
      "Ameba : 269\n",
      "SoundCloud Pulse: for creators : 240\n",
      "Tantan : 235\n",
      "Cougar Dating & Life Style App for Mature Women : 213\n",
      "Rawr Messenger - Dab your chat : 180\n",
      "WhenToPost: Best Time to Post Photos for Instagram : 158\n",
      "Inke—Broadcast an amazing life : 147\n",
      "same - 就是聊得来 : 78\n",
      "Mustknow - anonymous video Q&A : 53\n",
      "CTFxCmoji : 39\n",
      "タップル誕生 - 出会いアプリで趣味から恋活・婚活 : 37\n",
      "Lobi : 36\n",
      "Chain: Collaborate On MyVideo Story/Group Video : 35\n",
      "花椒直播-高清美颜直播互动平台 : 19\n",
      "ひみつの出会い探しはバクアイ-無料の出会いチャットアプリで友達作り : 13\n",
      "Jメール 出会える人気の匿名SNS出会い系アプリ : 11\n",
      "botman - Real time video chat : 7\n",
      "秀色秀场-网红直播 聊天交友 : 6\n",
      "非诚勿扰-中国最大免费婚恋交友平台 : 3\n",
      "美播 - 玩不尽的真人游戏 : 1\n",
      "ピグパーティ - きせかえ・アバターで楽しむトークアプリ : 1\n",
      "派派激情版-寂陌陌声人交友神器 : 0\n",
      "视吧-全民手机直播 : 0\n",
      "マッチングならSecret- 友達・恋人探しSNS : 0\n",
      "BestieBox : 0\n",
      "おチャベリ-ビデオ通話でマッチングアプリ : 0\n",
      "暇なら話そう！誰でも話せて友達も作れる「KoeTomo」 : 0\n",
      "出会い無料のチャット掲示板 LINK : 0\n",
      "出会い応援チャットアプリLIKE YOU : 0\n",
      "BiBi娱乐社区 - 好玩的游戏都在这里！ : 0\n",
      "HONNE -本音が言える匿名つぶやき&チャットアプリ : 0\n",
      "NOW直播—腾讯旗下全民直播平台 : 0\n",
      "【完全無料】ソク出会える！ひみつフレ探し掲示板 : 0\n",
      "陌爱神器-不闲聊！陌生人快速约见面平台 : 0\n",
      "【完全無料】おとな専用！出会い掲示板 : 0\n",
      "洋葱圈—正经人的不正经聊天工具 : 0\n",
      "出会い系無料で遊べるsnsアプリ内緒チャットトーク : 0\n",
      "出会い秘密チャット - 相席 出会い系チャット : 0\n",
      "MATCH ON LINE chat : 0\n",
      "大人の出会いチャット  - 出会い系 アプリ : 0\n",
      "niconico ch : 0\n",
      "ライブチャット、ビデオチャット通話が楽しめる！ ライブでゴーゴー : 0\n",
      "ゲーム攻略「SGGP」掲示板、SNSな友達出会い : 0\n",
      "LINE BLOG : 0\n",
      "FixYou-無料でチャットトークができるSNSマッチングアプリ : 0\n",
      "bit-tube - Live Stream Video Chat : 0\n",
      "出会い系アプリ i-Mail（アイメール） : 0\n",
      "同城爱约会-单身男女约会神器 : 0\n",
      "マッチング チャット - マッチング&恋人探しチャット : 0\n",
      "友達 恋人探し であい ちゃっと sns -ギャルとも : 0\n"
     ]
    }
   ],
   "source": [
    "for each_app in Apple_VF:\n",
    "    genre=each_app[11]\n",
    "    if genre=='Social Networking':\n",
    "        print(each_app[1], ':', each_app[5])"
   ]
  },
  {
   "cell_type": "markdown",
   "metadata": {},
   "source": [
    "The genre with highest average number of ratings is Social & Networking, highly influenced by apps such as Facebook, Whatsapp,Messenger, Skype."
   ]
  },
  {
   "cell_type": "code",
   "execution_count": 85,
   "metadata": {
    "collapsed": false
   },
   "outputs": [
    {
     "name": "stdout",
     "output_type": "stream",
     "text": [
      "COMMUNICATION : 38456119.167247385\n",
      "SPORTS : 3638640.1428571427\n",
      "LIFESTYLE : 1437816.2687861272\n",
      "AUTO_AND_VEHICLES : 647317.8170731707\n",
      "BEAUTY : 513151.88679245283\n",
      "BUSINESS : 1712290.1474201474\n",
      "MAPS_AND_NAVIGATION : 4056941.7741935486\n",
      "PRODUCTIVITY : 16787331.344927534\n",
      "FAMILY : 3695641.8198090694\n",
      "COMICS : 817657.2727272727\n",
      "EVENTS : 253542.22222222222\n",
      "WEATHER : 5074486.197183099\n",
      "PERSONALIZATION : 5201482.6122448975\n",
      "HEALTH_AND_FITNESS : 4188821.9853479853\n",
      "TRAVEL_AND_LOCAL : 13984077.710144928\n",
      "SOCIAL : 23253652.127118643\n",
      "MEDICAL : 120550.61980830671\n",
      "EDUCATION : 1833495.145631068\n",
      "GAME : 15588015.603248259\n",
      "HOUSE_AND_HOME : 1331540.5616438356\n",
      "FOOD_AND_DRINK : 1924897.7363636363\n",
      "PHOTOGRAPHY : 17840110.40229885\n",
      "FINANCE : 1387692.475609756\n",
      "ART_AND_DESIGN : 1986335.0877192982\n",
      "LIBRARIES_AND_DEMO : 638503.734939759\n",
      "PARENTING : 542603.6206896552\n",
      "ENTERTAINMENT : 11640705.88235294\n",
      "TOOLS : 10801391.298666667\n",
      "NEWS_AND_MAGAZINES : 9549178.467741935\n",
      "DATING : 854028.8303030303\n",
      "BOOKS_AND_REFERENCE : 8767811.894736841\n",
      "VIDEO_PLAYERS : 24727872.452830188\n",
      "SHOPPING : 7036877.311557789\n"
     ]
    }
   ],
   "source": [
    "app_category=freq_table(Android_VF,1)\n",
    "for category in app_category:\n",
    "    total=0\n",
    "    len_category=0\n",
    "    for each_app in Android_VF:\n",
    "        app_genre=each_app[1]\n",
    "        if app_genre==category:\n",
    "            installs=each_app[5]\n",
    "            installs=installs.replace('+','')\n",
    "            installs=installs.replace(',','')\n",
    "            installs=float(installs)\n",
    "            total=total+installs\n",
    "            len_category+=1\n",
    "    avg_installs=total/len_category\n",
    "    print(category,':',avg_installs)"
   ]
  },
  {
   "cell_type": "markdown",
   "metadata": {},
   "source": [
    "The Communication has the highest number of average installs followed by Games and Entertainment.\n",
    "The Android app market is clearly dominated by Social and Games/Entertainment app installs."
   ]
  }
 ],
 "metadata": {
  "kernelspec": {
   "display_name": "Python 3",
   "language": "python",
   "name": "python3"
  },
  "language_info": {
   "codemirror_mode": {
    "name": "ipython",
    "version": 3
   },
   "file_extension": ".py",
   "mimetype": "text/x-python",
   "name": "python",
   "nbconvert_exporter": "python",
   "pygments_lexer": "ipython3",
   "version": "3.4.3"
  }
 },
 "nbformat": 4,
 "nbformat_minor": 2
}
